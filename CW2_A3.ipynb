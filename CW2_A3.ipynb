{
 "cells": [
  {
   "cell_type": "markdown",
   "id": "cd832b3d",
   "metadata": {},
   "source": [
    "**imports**"
   ]
  },
  {
   "cell_type": "code",
   "execution_count": 1,
   "id": "5dabf284",
   "metadata": {},
   "outputs": [],
   "source": [
    "from nltk.corpus import brown\n",
    "import nltk\n",
    "import numpy as np\n",
    "import pandas as pd\n",
    "import matplotlib.pyplot as plt\n",
    "%matplotlib inline\n",
    "from nltk.corpus import stopwords\n",
    "from nltk.stem import SnowballStemmer\n",
    "from nltk.stem import *\n",
    "from nltk.stem.porter import *\n",
    "import string\n",
    "from nltk.stem import WordNetLemmatizer\n",
    "from nltk.corpus import wordnet as wn\n",
    "from itertools import chain"
   ]
  },
  {
   "cell_type": "code",
   "execution_count": 2,
   "id": "f0382a72",
   "metadata": {},
   "outputs": [
    {
     "name": "stderr",
     "output_type": "stream",
     "text": [
      "[nltk_data] Downloading package brown to\n",
      "[nltk_data]     C:\\Users\\mmdee\\AppData\\Roaming\\nltk_data...\n",
      "[nltk_data]   Package brown is already up-to-date!\n"
     ]
    },
    {
     "data": {
      "text/plain": [
       "True"
      ]
     },
     "execution_count": 2,
     "metadata": {},
     "output_type": "execute_result"
    }
   ],
   "source": [
    "nltk.download('brown')"
   ]
  },
  {
   "cell_type": "code",
   "execution_count": 3,
   "id": "d2a230cc",
   "metadata": {},
   "outputs": [
    {
     "data": {
      "text/plain": [
       "['The', 'Fulton', 'County', 'Grand', 'Jury', 'said', ...]"
      ]
     },
     "execution_count": 3,
     "metadata": {},
     "output_type": "execute_result"
    }
   ],
   "source": [
    "nltk.corpus.brown.words()"
   ]
  },
  {
   "cell_type": "markdown",
   "id": "a2aa4c25",
   "metadata": {},
   "source": [
    "# 3.1 Sub-activity: Loading the Brown corpus data from NLTK\n",
    "\n",
    "**Task1**"
   ]
  },
  {
   "cell_type": "code",
   "execution_count": 4,
   "id": "0e442c16",
   "metadata": {},
   "outputs": [
    {
     "name": "stdout",
     "output_type": "stream",
     "text": [
      "['adventure', 'belles_lettres', 'editorial', 'fiction', 'government', 'hobbies', 'humor', 'learned', 'lore', 'mystery', 'news', 'religion', 'reviews', 'romance', 'science_fiction']\n"
     ]
    }
   ],
   "source": [
    "category_names_list = brown.categories()\n",
    "category_names_list.sort()\n",
    "print(category_names_list)"
   ]
  },
  {
   "cell_type": "markdown",
   "id": "c715c455",
   "metadata": {},
   "source": [
    "**Task 2:**\n",
    "\n",
    "\n",
    "(a) Add five columns to the dataframe"
   ]
  },
  {
   "cell_type": "code",
   "execution_count": 5,
   "id": "2d2a0edf",
   "metadata": {},
   "outputs": [],
   "source": [
    "brown_corpus = pd.DataFrame(columns=['category_name', 'count_words','count_sentences', 'count_paragraphs',\n",
    "                                     'common_words','common_words_after_preprocessing'])"
   ]
  },
  {
   "cell_type": "code",
   "execution_count": 6,
   "id": "890a4c65",
   "metadata": {},
   "outputs": [],
   "source": [
    "brown_corpus['category_name'] = category_names_list\n",
    "stopwords = nltk.corpus.stopwords.words('english')"
   ]
  },
  {
   "cell_type": "markdown",
   "id": "79911026",
   "metadata": {},
   "source": [
    "(b) Fill this dataframe"
   ]
  },
  {
   "cell_type": "code",
   "execution_count": 7,
   "id": "0e393a90",
   "metadata": {},
   "outputs": [],
   "source": [
    "for i in range(len(category_names_list)) :\n",
    "    brown_corpus['count_words'][i] = len(brown.words(categories = category_names_list[i]))\n",
    "    brown_corpus['count_sentences'][i] =  len(brown.sents(categories = category_names_list[i]))\n",
    "    brown_corpus['count_paragraphs'][i] =  len(brown.paras(categories = category_names_list[i]))\n",
    "    word_list = brown.words(categories = category_names_list[i])\n",
    "    word_list = [word.lower() for word in word_list]\n",
    "    word_list = nltk.FreqDist(word_list).most_common(10)\n",
    "    word_list = [word[0] for word in word_list]\n",
    "    brown_corpus['common_words'][i] = word_list"
   ]
  },
  {
   "cell_type": "code",
   "execution_count": 8,
   "id": "e4415be3",
   "metadata": {},
   "outputs": [
    {
     "data": {
      "text/html": [
       "<div>\n",
       "<style scoped>\n",
       "    .dataframe tbody tr th:only-of-type {\n",
       "        vertical-align: middle;\n",
       "    }\n",
       "\n",
       "    .dataframe tbody tr th {\n",
       "        vertical-align: top;\n",
       "    }\n",
       "\n",
       "    .dataframe thead th {\n",
       "        text-align: right;\n",
       "    }\n",
       "</style>\n",
       "<table border=\"1\" class=\"dataframe\">\n",
       "  <thead>\n",
       "    <tr style=\"text-align: right;\">\n",
       "      <th></th>\n",
       "      <th>category_name</th>\n",
       "      <th>count_words</th>\n",
       "      <th>count_sentences</th>\n",
       "      <th>count_paragraphs</th>\n",
       "      <th>common_words</th>\n",
       "      <th>common_words_after_preprocessing</th>\n",
       "    </tr>\n",
       "  </thead>\n",
       "  <tbody>\n",
       "    <tr>\n",
       "      <th>0</th>\n",
       "      <td>adventure</td>\n",
       "      <td>69342</td>\n",
       "      <td>4637</td>\n",
       "      <td>1387</td>\n",
       "      <td>[., the, ,, and, a, of, to, he, ``, '']</td>\n",
       "      <td>NaN</td>\n",
       "    </tr>\n",
       "    <tr>\n",
       "      <th>1</th>\n",
       "      <td>belles_lettres</td>\n",
       "      <td>173096</td>\n",
       "      <td>7209</td>\n",
       "      <td>1405</td>\n",
       "      <td>[the, ,, ., of, and, to, a, in, that, is]</td>\n",
       "      <td>NaN</td>\n",
       "    </tr>\n",
       "    <tr>\n",
       "      <th>2</th>\n",
       "      <td>editorial</td>\n",
       "      <td>61604</td>\n",
       "      <td>2997</td>\n",
       "      <td>1003</td>\n",
       "      <td>[the, ,, ., of, to, and, a, in, is, that]</td>\n",
       "      <td>NaN</td>\n",
       "    </tr>\n",
       "    <tr>\n",
       "      <th>3</th>\n",
       "      <td>fiction</td>\n",
       "      <td>68488</td>\n",
       "      <td>4249</td>\n",
       "      <td>1043</td>\n",
       "      <td>[the, ,, ., and, to, of, a, he, was, in]</td>\n",
       "      <td>NaN</td>\n",
       "    </tr>\n",
       "    <tr>\n",
       "      <th>4</th>\n",
       "      <td>government</td>\n",
       "      <td>70117</td>\n",
       "      <td>3032</td>\n",
       "      <td>851</td>\n",
       "      <td>[the, ,, of, ., and, to, in, a, for, is]</td>\n",
       "      <td>NaN</td>\n",
       "    </tr>\n",
       "    <tr>\n",
       "      <th>5</th>\n",
       "      <td>hobbies</td>\n",
       "      <td>82345</td>\n",
       "      <td>4193</td>\n",
       "      <td>1119</td>\n",
       "      <td>[the, ,, ., of, and, a, to, in, is, for]</td>\n",
       "      <td>NaN</td>\n",
       "    </tr>\n",
       "    <tr>\n",
       "      <th>6</th>\n",
       "      <td>humor</td>\n",
       "      <td>21695</td>\n",
       "      <td>1053</td>\n",
       "      <td>254</td>\n",
       "      <td>[,, the, ., and, a, of, to, in, ``, '']</td>\n",
       "      <td>NaN</td>\n",
       "    </tr>\n",
       "    <tr>\n",
       "      <th>7</th>\n",
       "      <td>learned</td>\n",
       "      <td>181888</td>\n",
       "      <td>7734</td>\n",
       "      <td>1418</td>\n",
       "      <td>[the, ,, of, ., and, in, to, a, is, that]</td>\n",
       "      <td>NaN</td>\n",
       "    </tr>\n",
       "    <tr>\n",
       "      <th>8</th>\n",
       "      <td>lore</td>\n",
       "      <td>110299</td>\n",
       "      <td>4881</td>\n",
       "      <td>1203</td>\n",
       "      <td>[the, ,, ., of, and, to, a, in, is, that]</td>\n",
       "      <td>NaN</td>\n",
       "    </tr>\n",
       "    <tr>\n",
       "      <th>9</th>\n",
       "      <td>mystery</td>\n",
       "      <td>57169</td>\n",
       "      <td>3886</td>\n",
       "      <td>1164</td>\n",
       "      <td>[., the, ,, to, and, a, he, of, was, ``]</td>\n",
       "      <td>NaN</td>\n",
       "    </tr>\n",
       "    <tr>\n",
       "      <th>10</th>\n",
       "      <td>news</td>\n",
       "      <td>100554</td>\n",
       "      <td>4623</td>\n",
       "      <td>2234</td>\n",
       "      <td>[the, ,, ., of, and, to, a, in, for, that]</td>\n",
       "      <td>NaN</td>\n",
       "    </tr>\n",
       "    <tr>\n",
       "      <th>11</th>\n",
       "      <td>religion</td>\n",
       "      <td>39399</td>\n",
       "      <td>1716</td>\n",
       "      <td>369</td>\n",
       "      <td>[the, ,, of, ., and, to, in, a, is, that]</td>\n",
       "      <td>NaN</td>\n",
       "    </tr>\n",
       "    <tr>\n",
       "      <th>12</th>\n",
       "      <td>reviews</td>\n",
       "      <td>40704</td>\n",
       "      <td>1751</td>\n",
       "      <td>629</td>\n",
       "      <td>[the, ,, ., of, and, a, in, to, is, ``]</td>\n",
       "      <td>NaN</td>\n",
       "    </tr>\n",
       "    <tr>\n",
       "      <th>13</th>\n",
       "      <td>romance</td>\n",
       "      <td>70022</td>\n",
       "      <td>4431</td>\n",
       "      <td>1253</td>\n",
       "      <td>[,, ., the, and, to, a, of, he, ``, '']</td>\n",
       "      <td>NaN</td>\n",
       "    </tr>\n",
       "    <tr>\n",
       "      <th>14</th>\n",
       "      <td>science_fiction</td>\n",
       "      <td>14470</td>\n",
       "      <td>948</td>\n",
       "      <td>335</td>\n",
       "      <td>[,, ., the, of, to, and, a, ``, '', was]</td>\n",
       "      <td>NaN</td>\n",
       "    </tr>\n",
       "  </tbody>\n",
       "</table>\n",
       "</div>"
      ],
      "text/plain": [
       "      category_name count_words count_sentences count_paragraphs  \\\n",
       "0         adventure       69342            4637             1387   \n",
       "1    belles_lettres      173096            7209             1405   \n",
       "2         editorial       61604            2997             1003   \n",
       "3           fiction       68488            4249             1043   \n",
       "4        government       70117            3032              851   \n",
       "5           hobbies       82345            4193             1119   \n",
       "6             humor       21695            1053              254   \n",
       "7           learned      181888            7734             1418   \n",
       "8              lore      110299            4881             1203   \n",
       "9           mystery       57169            3886             1164   \n",
       "10             news      100554            4623             2234   \n",
       "11         religion       39399            1716              369   \n",
       "12          reviews       40704            1751              629   \n",
       "13          romance       70022            4431             1253   \n",
       "14  science_fiction       14470             948              335   \n",
       "\n",
       "                                  common_words  \\\n",
       "0      [., the, ,, and, a, of, to, he, ``, '']   \n",
       "1    [the, ,, ., of, and, to, a, in, that, is]   \n",
       "2    [the, ,, ., of, to, and, a, in, is, that]   \n",
       "3     [the, ,, ., and, to, of, a, he, was, in]   \n",
       "4     [the, ,, of, ., and, to, in, a, for, is]   \n",
       "5     [the, ,, ., of, and, a, to, in, is, for]   \n",
       "6      [,, the, ., and, a, of, to, in, ``, '']   \n",
       "7    [the, ,, of, ., and, in, to, a, is, that]   \n",
       "8    [the, ,, ., of, and, to, a, in, is, that]   \n",
       "9     [., the, ,, to, and, a, he, of, was, ``]   \n",
       "10  [the, ,, ., of, and, to, a, in, for, that]   \n",
       "11   [the, ,, of, ., and, to, in, a, is, that]   \n",
       "12     [the, ,, ., of, and, a, in, to, is, ``]   \n",
       "13     [,, ., the, and, to, a, of, he, ``, '']   \n",
       "14    [,, ., the, of, to, and, a, ``, '', was]   \n",
       "\n",
       "   common_words_after_preprocessing  \n",
       "0                               NaN  \n",
       "1                               NaN  \n",
       "2                               NaN  \n",
       "3                               NaN  \n",
       "4                               NaN  \n",
       "5                               NaN  \n",
       "6                               NaN  \n",
       "7                               NaN  \n",
       "8                               NaN  \n",
       "9                               NaN  \n",
       "10                              NaN  \n",
       "11                              NaN  \n",
       "12                              NaN  \n",
       "13                              NaN  \n",
       "14                              NaN  "
      ]
     },
     "execution_count": 8,
     "metadata": {},
     "output_type": "execute_result"
    }
   ],
   "source": [
    "brown_corpus"
   ]
  },
  {
   "cell_type": "markdown",
   "id": "b2e34580",
   "metadata": {},
   "source": [
    "(c) Add a sixth column to the dataframe named common words after preprocessing"
   ]
  },
  {
   "cell_type": "code",
   "execution_count": 9,
   "id": "96e0663f",
   "metadata": {},
   "outputs": [],
   "source": [
    "\n",
    "for i in range(len(category_names_list)) :\n",
    "    word_list = brown.words(categories = category_names_list[i])\n",
    "    word_list = [word.lower() for word in word_list]  \n",
    "    word_list = nltk.FreqDist(w for w in word_list if w not in stopwords and w not in string.punctuation and w not in [ '--', '``', \"''\"]) \n",
    "    word_list = word_list.most_common(10)\n",
    "    word_list = [word[0] for word in word_list]\n",
    "    brown_corpus['common_words_after_preprocessing'][i] = word_list\n"
   ]
  },
  {
   "cell_type": "markdown",
   "id": "e778a0e6",
   "metadata": {},
   "source": [
    "(d) Print the first ten rows of the final dataframe."
   ]
  },
  {
   "cell_type": "code",
   "execution_count": 10,
   "id": "5a861215",
   "metadata": {},
   "outputs": [
    {
     "data": {
      "text/html": [
       "<div>\n",
       "<style scoped>\n",
       "    .dataframe tbody tr th:only-of-type {\n",
       "        vertical-align: middle;\n",
       "    }\n",
       "\n",
       "    .dataframe tbody tr th {\n",
       "        vertical-align: top;\n",
       "    }\n",
       "\n",
       "    .dataframe thead th {\n",
       "        text-align: right;\n",
       "    }\n",
       "</style>\n",
       "<table border=\"1\" class=\"dataframe\">\n",
       "  <thead>\n",
       "    <tr style=\"text-align: right;\">\n",
       "      <th></th>\n",
       "      <th>category_name</th>\n",
       "      <th>count_words</th>\n",
       "      <th>count_sentences</th>\n",
       "      <th>count_paragraphs</th>\n",
       "      <th>common_words</th>\n",
       "      <th>common_words_after_preprocessing</th>\n",
       "    </tr>\n",
       "  </thead>\n",
       "  <tbody>\n",
       "    <tr>\n",
       "      <th>0</th>\n",
       "      <td>adventure</td>\n",
       "      <td>69342</td>\n",
       "      <td>4637</td>\n",
       "      <td>1387</td>\n",
       "      <td>[., the, ,, and, a, of, to, he, ``, '']</td>\n",
       "      <td>[said, would, one, back, man, could, like, tim...</td>\n",
       "    </tr>\n",
       "    <tr>\n",
       "      <th>1</th>\n",
       "      <td>belles_lettres</td>\n",
       "      <td>173096</td>\n",
       "      <td>7209</td>\n",
       "      <td>1405</td>\n",
       "      <td>[the, ,, ., of, and, to, a, in, that, is]</td>\n",
       "      <td>[one, would, new, time, man, even, may, could,...</td>\n",
       "    </tr>\n",
       "    <tr>\n",
       "      <th>2</th>\n",
       "      <td>editorial</td>\n",
       "      <td>61604</td>\n",
       "      <td>2997</td>\n",
       "      <td>1003</td>\n",
       "      <td>[the, ,, ., of, to, and, a, in, is, that]</td>\n",
       "      <td>[would, one, new, mr., united, may, people, am...</td>\n",
       "    </tr>\n",
       "    <tr>\n",
       "      <th>3</th>\n",
       "      <td>fiction</td>\n",
       "      <td>68488</td>\n",
       "      <td>4249</td>\n",
       "      <td>1043</td>\n",
       "      <td>[the, ,, ., and, to, of, a, he, was, in]</td>\n",
       "      <td>[would, said, one, could, like, man, back, tim...</td>\n",
       "    </tr>\n",
       "    <tr>\n",
       "      <th>4</th>\n",
       "      <td>government</td>\n",
       "      <td>70117</td>\n",
       "      <td>3032</td>\n",
       "      <td>851</td>\n",
       "      <td>[the, ,, of, ., and, to, in, a, for, is]</td>\n",
       "      <td>[state, year, states, may, united, new, develo...</td>\n",
       "    </tr>\n",
       "    <tr>\n",
       "      <th>5</th>\n",
       "      <td>hobbies</td>\n",
       "      <td>82345</td>\n",
       "      <td>4193</td>\n",
       "      <td>1119</td>\n",
       "      <td>[the, ,, ., of, and, a, to, in, is, for]</td>\n",
       "      <td>[one, new, may, time, first, many, two, also, ...</td>\n",
       "    </tr>\n",
       "    <tr>\n",
       "      <th>6</th>\n",
       "      <td>humor</td>\n",
       "      <td>21695</td>\n",
       "      <td>1053</td>\n",
       "      <td>254</td>\n",
       "      <td>[,, the, ., and, a, of, to, in, ``, '']</td>\n",
       "      <td>[said, one, would, time, even, like, mr., coul...</td>\n",
       "    </tr>\n",
       "    <tr>\n",
       "      <th>7</th>\n",
       "      <td>learned</td>\n",
       "      <td>181888</td>\n",
       "      <td>7734</td>\n",
       "      <td>1418</td>\n",
       "      <td>[the, ,, of, ., and, in, to, a, is, that]</td>\n",
       "      <td>[af, one, may, would, two, first, 1, also, tim...</td>\n",
       "    </tr>\n",
       "    <tr>\n",
       "      <th>8</th>\n",
       "      <td>lore</td>\n",
       "      <td>110299</td>\n",
       "      <td>4881</td>\n",
       "      <td>1203</td>\n",
       "      <td>[the, ,, ., of, and, to, a, in, is, that]</td>\n",
       "      <td>[one, would, time, may, new, first, could, peo...</td>\n",
       "    </tr>\n",
       "    <tr>\n",
       "      <th>9</th>\n",
       "      <td>mystery</td>\n",
       "      <td>57169</td>\n",
       "      <td>3886</td>\n",
       "      <td>1164</td>\n",
       "      <td>[., the, ,, to, and, a, he, of, was, ``]</td>\n",
       "      <td>[said, would, one, back, could, like, man, get...</td>\n",
       "    </tr>\n",
       "  </tbody>\n",
       "</table>\n",
       "</div>"
      ],
      "text/plain": [
       "    category_name count_words count_sentences count_paragraphs  \\\n",
       "0       adventure       69342            4637             1387   \n",
       "1  belles_lettres      173096            7209             1405   \n",
       "2       editorial       61604            2997             1003   \n",
       "3         fiction       68488            4249             1043   \n",
       "4      government       70117            3032              851   \n",
       "5         hobbies       82345            4193             1119   \n",
       "6           humor       21695            1053              254   \n",
       "7         learned      181888            7734             1418   \n",
       "8            lore      110299            4881             1203   \n",
       "9         mystery       57169            3886             1164   \n",
       "\n",
       "                                common_words  \\\n",
       "0    [., the, ,, and, a, of, to, he, ``, '']   \n",
       "1  [the, ,, ., of, and, to, a, in, that, is]   \n",
       "2  [the, ,, ., of, to, and, a, in, is, that]   \n",
       "3   [the, ,, ., and, to, of, a, he, was, in]   \n",
       "4   [the, ,, of, ., and, to, in, a, for, is]   \n",
       "5   [the, ,, ., of, and, a, to, in, is, for]   \n",
       "6    [,, the, ., and, a, of, to, in, ``, '']   \n",
       "7  [the, ,, of, ., and, in, to, a, is, that]   \n",
       "8  [the, ,, ., of, and, to, a, in, is, that]   \n",
       "9   [., the, ,, to, and, a, he, of, was, ``]   \n",
       "\n",
       "                    common_words_after_preprocessing  \n",
       "0  [said, would, one, back, man, could, like, tim...  \n",
       "1  [one, would, new, time, man, even, may, could,...  \n",
       "2  [would, one, new, mr., united, may, people, am...  \n",
       "3  [would, said, one, could, like, man, back, tim...  \n",
       "4  [state, year, states, may, united, new, develo...  \n",
       "5  [one, new, may, time, first, many, two, also, ...  \n",
       "6  [said, one, would, time, even, like, mr., coul...  \n",
       "7  [af, one, may, would, two, first, 1, also, tim...  \n",
       "8  [one, would, time, may, new, first, could, peo...  \n",
       "9  [said, would, one, back, could, like, man, get...  "
      ]
     },
     "execution_count": 10,
     "metadata": {},
     "output_type": "execute_result"
    }
   ],
   "source": [
    "brown_corpus.head(10)"
   ]
  },
  {
   "cell_type": "markdown",
   "id": "6a247ad7",
   "metadata": {},
   "source": [
    "# 3.2.1 Stemming\n",
    "\n",
    "**Task 3:**\n",
    "\n",
    "a) Remove stopwords and punctuation from the list of words of category news \n"
   ]
  },
  {
   "cell_type": "code",
   "execution_count": 11,
   "id": "b518879e",
   "metadata": {},
   "outputs": [
    {
     "name": "stdout",
     "output_type": "stream",
     "text": [
      "12954\n",
      "9625\n"
     ]
    }
   ],
   "source": [
    "\n",
    "news_word_withstopword = brown.words(categories = 'news')\n",
    "news_word_withstopword = [word.lower() for word in news_word_withstopword ]\n",
    "news_words = []\n",
    "for word in news_word_withstopword  :\n",
    "    if word.lower() not in stopwords:\n",
    "        news_words.append(word)\n",
    "\n",
    "# remove punctuations \n",
    "\n",
    "news_words = [word for word in news_words if word not in string.punctuation and word not in [ '--', '``', \"''\"]]\n",
    "\n",
    "\n",
    "\n",
    "#(b)Calculate and print the number of unique words in news words.\n",
    "\n",
    "unique_words_news = set(news_words)\n",
    "unique_words_news_length = len(unique_words_news)\n",
    "print(unique_words_news_length)\n",
    "\n",
    "#(c) apply the PorterStemmer\n",
    "\n",
    "stemmer = PorterStemmer()\n",
    "\n",
    "news_words_stem = [stemmer.stem(word) for word in unique_words_news]\n",
    "news_words_stem = set(news_words_stem)\n",
    "print(len(news_words_stem))\n"
   ]
  },
  {
   "cell_type": "markdown",
   "id": "040cf915",
   "metadata": {},
   "source": [
    "# Task 4:"
   ]
  },
  {
   "cell_type": "code",
   "execution_count": 12,
   "id": "29b21997",
   "metadata": {},
   "outputs": [
    {
     "name": "stdout",
     "output_type": "stream",
     "text": [
      "12954\n",
      "9178\n"
     ]
    }
   ],
   "source": [
    "#SnowballStemmer and the category fiction\n",
    "\n",
    "fiction_word_withstopword = brown.words(categories = 'fiction')\n",
    "fiction_word_withstopword = [word.lower() for word in fiction_word_withstopword ]\n",
    "fiction_words = []\n",
    "for word in news_word_withstopword  :\n",
    "    if word.lower() not in stopwords:\n",
    "        fiction_words.append(word)\n",
    "\n",
    "# remove punctuations \n",
    "\n",
    "fiction_words = [word for word in fiction_words if word not in string.punctuation and word not in [ '--', '``', \"''\"]]\n",
    "\n",
    "\n",
    "\n",
    "#Calculate and print the number of unique words in fiction words.\n",
    "\n",
    "unique_words_fiction = set(fiction_words)\n",
    "unique_words_fiction_length = len(unique_words_fiction)\n",
    "print(unique_words_fiction_length)\n",
    "\n",
    "#SnowballStemmer\n",
    "\n",
    "stemmer_snowball = SnowballStemmer(\"english\")\n",
    "fiction_words_stem = [stemmer_snowball.stem(word) for word in unique_words_fiction]\n",
    "fiction_words_stem = set(fiction_words_stem)\n",
    "print(len(fiction_words_stem))"
   ]
  },
  {
   "cell_type": "markdown",
   "id": "5a744aac",
   "metadata": {},
   "source": [
    "# 3.2.2 Lemmatization\n",
    "\n",
    "# Task 5 : "
   ]
  },
  {
   "cell_type": "code",
   "execution_count": 13,
   "id": "ff0bc897",
   "metadata": {},
   "outputs": [
    {
     "name": "stdout",
     "output_type": "stream",
     "text": [
      "7223\n",
      "6431\n"
     ]
    }
   ],
   "source": [
    "government_word_withstopword = brown.words(categories = 'government')\n",
    "government_word_withstopword = [word.lower() for word in government_word_withstopword ]\n",
    "government_words = []\n",
    "for word in government_word_withstopword  :\n",
    "    if word.lower() not in stopwords:\n",
    "        government_words.append(word)\n",
    "\n",
    "# Remove punctuations \n",
    "\n",
    "government_words = [word for word in government_words if word not in string.punctuation and word not in [ '--', '``', \"''\"]]\n",
    "\n",
    "\n",
    "\n",
    "#Calculate and print the number of unique words in government words.\n",
    "unique_words_government = set(government_words)\n",
    "unique_words_government_length = len(unique_words_government)\n",
    "print(unique_words_government_length) # printing unique words before Lemmatization\n",
    "\n",
    "#Lemmatization\n",
    "\n",
    "wnl = WordNetLemmatizer()\n",
    "government_words_lem = [wnl.lemmatize(word) for word in unique_words_government]\n",
    "government_words_lem = set(government_words_lem)\n",
    "print(len(government_words_lem))    # printing unique words after Lemmatization\n"
   ]
  },
  {
   "cell_type": "markdown",
   "id": "b6f23cb8",
   "metadata": {},
   "source": [
    "# 3.2.3 Finding synonyms and antonyms\n",
    "\n",
    "**Task 6:**"
   ]
  },
  {
   "cell_type": "code",
   "execution_count": 14,
   "id": "873fcd0c",
   "metadata": {},
   "outputs": [],
   "source": [
    "#(a) First, add two new columns to the brown corpus dataframe: synonyms, antonyms.\n",
    "\n",
    "brown_corpus = brown_corpus.reindex(columns = brown_corpus.columns.tolist() + ['synonyms','antonyms'])"
   ]
  },
  {
   "cell_type": "code",
   "execution_count": 47,
   "id": "2038bb1e",
   "metadata": {},
   "outputs": [],
   "source": [
    "def find_synonyms(keyword) :\n",
    "\n",
    "    synonyms = []\n",
    "    for synset in wn.synsets(keyword):\n",
    "        for lemma in synset.lemmas():\n",
    "            synonyms.append(lemma.name())\n",
    "    return synonyms\n",
    "\n",
    "def find_antonyms(keyword):\n",
    "    antonyms = []\n",
    "    for synset in wn.synsets(keyword):\n",
    "        for lemma in synset.lemmas():\n",
    "            if lemma.antonyms():\n",
    "                antonyms.append(lemma.antonyms()[0].name())\n",
    "    return antonyms\n",
    "    \n"
   ]
  },
  {
   "cell_type": "code",
   "execution_count": 48,
   "id": "9ae8bbd8",
   "metadata": {},
   "outputs": [
    {
     "name": "stderr",
     "output_type": "stream",
     "text": [
      "<ipython-input-48-6ebf49e8da80>:21: SettingWithCopyWarning: \n",
      "A value is trying to be set on a copy of a slice from a DataFrame\n",
      "\n",
      "See the caveats in the documentation: https://pandas.pydata.org/pandas-docs/stable/user_guide/indexing.html#returning-a-view-versus-a-copy\n",
      "  brown_corpus['synonyms'][i] = get_synonyms(brown_corpus['common_words_after_preprocessing'][i])\n",
      "<ipython-input-48-6ebf49e8da80>:24: SettingWithCopyWarning: \n",
      "A value is trying to be set on a copy of a slice from a DataFrame\n",
      "\n",
      "See the caveats in the documentation: https://pandas.pydata.org/pandas-docs/stable/user_guide/indexing.html#returning-a-view-versus-a-copy\n",
      "  brown_corpus['antonyms'][i] = get_antonyms(brown_corpus['common_words_after_preprocessing'][i])\n",
      "C:\\Users\\mmdee\\anaconda3\\lib\\site-packages\\pandas\\core\\indexing.py:1637: SettingWithCopyWarning: \n",
      "A value is trying to be set on a copy of a slice from a DataFrame\n",
      "\n",
      "See the caveats in the documentation: https://pandas.pydata.org/pandas-docs/stable/user_guide/indexing.html#returning-a-view-versus-a-copy\n",
      "  self._setitem_single_block(indexer, value, name)\n"
     ]
    }
   ],
   "source": [
    "list_pre = brown_corpus['common_words_after_preprocessing']\n",
    "#(b)\n",
    "def get_synonyms(list_pre):\n",
    "    syn = []\n",
    "    for word in list_pre:\n",
    "        syn_list = find_synonyms(word)\n",
    "        for a in syn_list:\n",
    "            syn.append(a)\n",
    "    return syn\n",
    "\n",
    "#(c)\n",
    "def get_antonyms(list_pre):\n",
    "    ant = []\n",
    "    for word in list_pre:\n",
    "        ant_list = find_antonyms(word)\n",
    "        for a in ant_list:\n",
    "            ant.append(a)\n",
    "    return ant\n",
    "\n",
    "    \n",
    "for i in range(len(brown_corpus['common_words_after_preprocessing'])):\n",
    "    brown_corpus['synonyms'][i] = get_synonyms(brown_corpus['common_words_after_preprocessing'][i])\n",
    "    \n",
    "for i in range(len(brown_corpus['common_words_after_preprocessing'])):\n",
    "    brown_corpus['antonyms'][i] = get_antonyms(brown_corpus['common_words_after_preprocessing'][i])                    "
   ]
  },
  {
   "cell_type": "code",
   "execution_count": 19,
   "id": "e6e4bff5",
   "metadata": {},
   "outputs": [
    {
     "data": {
      "text/html": [
       "<div>\n",
       "<style scoped>\n",
       "    .dataframe tbody tr th:only-of-type {\n",
       "        vertical-align: middle;\n",
       "    }\n",
       "\n",
       "    .dataframe tbody tr th {\n",
       "        vertical-align: top;\n",
       "    }\n",
       "\n",
       "    .dataframe thead th {\n",
       "        text-align: right;\n",
       "    }\n",
       "</style>\n",
       "<table border=\"1\" class=\"dataframe\">\n",
       "  <thead>\n",
       "    <tr style=\"text-align: right;\">\n",
       "      <th></th>\n",
       "      <th>category_name</th>\n",
       "      <th>count_words</th>\n",
       "      <th>count_sentences</th>\n",
       "      <th>count_paragraphs</th>\n",
       "      <th>common_words</th>\n",
       "      <th>common_words_after_preprocessing</th>\n",
       "      <th>synonyms</th>\n",
       "      <th>antonyms</th>\n",
       "    </tr>\n",
       "  </thead>\n",
       "  <tbody>\n",
       "    <tr>\n",
       "      <th>0</th>\n",
       "      <td>adventure</td>\n",
       "      <td>69342</td>\n",
       "      <td>4637</td>\n",
       "      <td>1387</td>\n",
       "      <td>[., the, ,, and, a, of, to, he, ``, '']</td>\n",
       "      <td>[said, would, one, back, man, could, like, tim...</td>\n",
       "      <td>None</td>\n",
       "      <td>NaN</td>\n",
       "    </tr>\n",
       "    <tr>\n",
       "      <th>1</th>\n",
       "      <td>belles_lettres</td>\n",
       "      <td>173096</td>\n",
       "      <td>7209</td>\n",
       "      <td>1405</td>\n",
       "      <td>[the, ,, ., of, and, to, a, in, that, is]</td>\n",
       "      <td>[one, would, new, time, man, even, may, could,...</td>\n",
       "      <td>None</td>\n",
       "      <td>NaN</td>\n",
       "    </tr>\n",
       "    <tr>\n",
       "      <th>2</th>\n",
       "      <td>editorial</td>\n",
       "      <td>61604</td>\n",
       "      <td>2997</td>\n",
       "      <td>1003</td>\n",
       "      <td>[the, ,, ., of, to, and, a, in, is, that]</td>\n",
       "      <td>[would, one, new, mr., united, may, people, am...</td>\n",
       "      <td>None</td>\n",
       "      <td>NaN</td>\n",
       "    </tr>\n",
       "    <tr>\n",
       "      <th>3</th>\n",
       "      <td>fiction</td>\n",
       "      <td>68488</td>\n",
       "      <td>4249</td>\n",
       "      <td>1043</td>\n",
       "      <td>[the, ,, ., and, to, of, a, he, was, in]</td>\n",
       "      <td>[would, said, one, could, like, man, back, tim...</td>\n",
       "      <td>None</td>\n",
       "      <td>NaN</td>\n",
       "    </tr>\n",
       "    <tr>\n",
       "      <th>4</th>\n",
       "      <td>government</td>\n",
       "      <td>70117</td>\n",
       "      <td>3032</td>\n",
       "      <td>851</td>\n",
       "      <td>[the, ,, of, ., and, to, in, a, for, is]</td>\n",
       "      <td>[state, year, states, may, united, new, develo...</td>\n",
       "      <td>None</td>\n",
       "      <td>NaN</td>\n",
       "    </tr>\n",
       "    <tr>\n",
       "      <th>5</th>\n",
       "      <td>hobbies</td>\n",
       "      <td>82345</td>\n",
       "      <td>4193</td>\n",
       "      <td>1119</td>\n",
       "      <td>[the, ,, ., of, and, a, to, in, is, for]</td>\n",
       "      <td>[one, new, may, time, first, many, two, also, ...</td>\n",
       "      <td>None</td>\n",
       "      <td>NaN</td>\n",
       "    </tr>\n",
       "    <tr>\n",
       "      <th>6</th>\n",
       "      <td>humor</td>\n",
       "      <td>21695</td>\n",
       "      <td>1053</td>\n",
       "      <td>254</td>\n",
       "      <td>[,, the, ., and, a, of, to, in, ``, '']</td>\n",
       "      <td>[said, one, would, time, even, like, mr., coul...</td>\n",
       "      <td>None</td>\n",
       "      <td>NaN</td>\n",
       "    </tr>\n",
       "    <tr>\n",
       "      <th>7</th>\n",
       "      <td>learned</td>\n",
       "      <td>181888</td>\n",
       "      <td>7734</td>\n",
       "      <td>1418</td>\n",
       "      <td>[the, ,, of, ., and, in, to, a, is, that]</td>\n",
       "      <td>[af, one, may, would, two, first, 1, also, tim...</td>\n",
       "      <td>None</td>\n",
       "      <td>NaN</td>\n",
       "    </tr>\n",
       "    <tr>\n",
       "      <th>8</th>\n",
       "      <td>lore</td>\n",
       "      <td>110299</td>\n",
       "      <td>4881</td>\n",
       "      <td>1203</td>\n",
       "      <td>[the, ,, ., of, and, to, a, in, is, that]</td>\n",
       "      <td>[one, would, time, may, new, first, could, peo...</td>\n",
       "      <td>None</td>\n",
       "      <td>NaN</td>\n",
       "    </tr>\n",
       "    <tr>\n",
       "      <th>9</th>\n",
       "      <td>mystery</td>\n",
       "      <td>57169</td>\n",
       "      <td>3886</td>\n",
       "      <td>1164</td>\n",
       "      <td>[., the, ,, to, and, a, he, of, was, ``]</td>\n",
       "      <td>[said, would, one, back, could, like, man, get...</td>\n",
       "      <td>None</td>\n",
       "      <td>NaN</td>\n",
       "    </tr>\n",
       "  </tbody>\n",
       "</table>\n",
       "</div>"
      ],
      "text/plain": [
       "    category_name count_words count_sentences count_paragraphs  \\\n",
       "0       adventure       69342            4637             1387   \n",
       "1  belles_lettres      173096            7209             1405   \n",
       "2       editorial       61604            2997             1003   \n",
       "3         fiction       68488            4249             1043   \n",
       "4      government       70117            3032              851   \n",
       "5         hobbies       82345            4193             1119   \n",
       "6           humor       21695            1053              254   \n",
       "7         learned      181888            7734             1418   \n",
       "8            lore      110299            4881             1203   \n",
       "9         mystery       57169            3886             1164   \n",
       "\n",
       "                                common_words  \\\n",
       "0    [., the, ,, and, a, of, to, he, ``, '']   \n",
       "1  [the, ,, ., of, and, to, a, in, that, is]   \n",
       "2  [the, ,, ., of, to, and, a, in, is, that]   \n",
       "3   [the, ,, ., and, to, of, a, he, was, in]   \n",
       "4   [the, ,, of, ., and, to, in, a, for, is]   \n",
       "5   [the, ,, ., of, and, a, to, in, is, for]   \n",
       "6    [,, the, ., and, a, of, to, in, ``, '']   \n",
       "7  [the, ,, of, ., and, in, to, a, is, that]   \n",
       "8  [the, ,, ., of, and, to, a, in, is, that]   \n",
       "9   [., the, ,, to, and, a, he, of, was, ``]   \n",
       "\n",
       "                    common_words_after_preprocessing synonyms  antonyms  \n",
       "0  [said, would, one, back, man, could, like, tim...     None       NaN  \n",
       "1  [one, would, new, time, man, even, may, could,...     None       NaN  \n",
       "2  [would, one, new, mr., united, may, people, am...     None       NaN  \n",
       "3  [would, said, one, could, like, man, back, tim...     None       NaN  \n",
       "4  [state, year, states, may, united, new, develo...     None       NaN  \n",
       "5  [one, new, may, time, first, many, two, also, ...     None       NaN  \n",
       "6  [said, one, would, time, even, like, mr., coul...     None       NaN  \n",
       "7  [af, one, may, would, two, first, 1, also, tim...     None       NaN  \n",
       "8  [one, would, time, may, new, first, could, peo...     None       NaN  \n",
       "9  [said, would, one, back, could, like, man, get...     None       NaN  "
      ]
     },
     "execution_count": 19,
     "metadata": {},
     "output_type": "execute_result"
    }
   ],
   "source": [
    "#(d)Print the first ten rows of the dataframe.\n",
    "\n",
    "brown_corpus.head(10)"
   ]
  },
  {
   "cell_type": "markdown",
   "id": "deae48e3",
   "metadata": {},
   "source": [
    "# 3.2.4 Bigrams and trigrams\n",
    "\n",
    "**Task 7:**"
   ]
  },
  {
   "cell_type": "code",
   "execution_count": 20,
   "id": "7c416464",
   "metadata": {},
   "outputs": [
    {
     "data": {
      "text/plain": [
       "[[['Phil', 'turned', 'and', 'left', 'the', 'room', ',', 'hearing', 'Eddie', 'say', ':', '``', 'Someday', \"you'll\", 'see', 'I', 'was', 'right', \"''\", '.']], [['Phil', 'shut', 'the', 'door', 'behind', 'him', '.'], ['Outside', 'in', 'the', 'dressing', 'room', ',', 'Frankie', 'Ricco', 'sat', 'on', 'the', 'bench', 'dressed', 'in', 'his', 'street', 'clothes', '.']], ...]"
      ]
     },
     "execution_count": 20,
     "metadata": {},
     "output_type": "execute_result"
    }
   ],
   "source": [
    "brown_paras = brown.paras()[-500:]\n",
    "brown_paras"
   ]
  },
  {
   "cell_type": "markdown",
   "id": "e280976e",
   "metadata": {},
   "source": [
    "**Task:8**"
   ]
  },
  {
   "cell_type": "code",
   "execution_count": 77,
   "id": "cf0d56bb",
   "metadata": {},
   "outputs": [],
   "source": [
    "def get_bigrams_frequency(para_list) : \n",
    "    #considering the bigrams between paragaphs and between lines\n",
    "    dict1 = {}\n",
    "    line_list = []\n",
    "    \n",
    "    for para in para_list : \n",
    "        for line in para:\n",
    "            line = [word for word in line if word not in stopwords and word  not in string.punctuation and word not in [ '--', '``', \"''\"]] \n",
    "            for word in line:\n",
    "                line_list.append(word)\n",
    "    \n",
    "    bigrm = nltk.bigrams(line_list)\n",
    "    bigrm_freq = nltk.FreqDist(bigrm)\n",
    "    dict1.update(bigrm_freq)\n",
    "    return dict1\n",
    "    \n",
    "    \n",
    "        \n",
    "    "
   ]
  },
  {
   "cell_type": "markdown",
   "id": "84f8ed43",
   "metadata": {},
   "source": [
    "**Task: 9**"
   ]
  },
  {
   "cell_type": "code",
   "execution_count": 79,
   "id": "ec940ad9",
   "metadata": {},
   "outputs": [],
   "source": [
    "brown_bigrams = get_bigrams_frequency(brown.paras()[-500:])"
   ]
  },
  {
   "cell_type": "markdown",
   "id": "efb77618",
   "metadata": {},
   "source": [
    "**Task: 10**"
   ]
  },
  {
   "cell_type": "code",
   "execution_count": 81,
   "id": "00d957ae",
   "metadata": {},
   "outputs": [
    {
     "data": {
      "text/plain": [
       "[(('United', 'States'), 16),\n",
       " (('He', 'said'), 14),\n",
       " (('The', 'President'), 11),\n",
       " (('last', 'year'), 11),\n",
       " (('per', 'cent'), 10),\n",
       " (('White', 'House'), 10),\n",
       " (('said', 'The'), 9),\n",
       " (('Mr.', 'Hawksley'), 9),\n",
       " (('jury', 'said'), 8),\n",
       " (('President', 'Kennedy'), 8),\n",
       " (('tax', 'bill'), 8),\n",
       " (('social', 'security'), 7),\n",
       " (('Hawksley', 'said'), 7),\n",
       " (('home', 'rule'), 7)]"
      ]
     },
     "execution_count": 81,
     "metadata": {},
     "output_type": "execute_result"
    }
   ],
   "source": [
    "sorted( brown_bigrams.items() , key = lambda item : item[1] , reverse = True)[0:14]"
   ]
  },
  {
   "cell_type": "markdown",
   "id": "c57f75fb",
   "metadata": {},
   "source": [
    "# 3.3.1 Barplots\n",
    "\n",
    "\n",
    "Task 11:"
   ]
  },
  {
   "cell_type": "code",
   "execution_count": 82,
   "id": "b4bca6b4",
   "metadata": {},
   "outputs": [
    {
     "data": {
      "text/html": [
       "<div>\n",
       "<style scoped>\n",
       "    .dataframe tbody tr th:only-of-type {\n",
       "        vertical-align: middle;\n",
       "    }\n",
       "\n",
       "    .dataframe tbody tr th {\n",
       "        vertical-align: top;\n",
       "    }\n",
       "\n",
       "    .dataframe thead th {\n",
       "        text-align: right;\n",
       "    }\n",
       "</style>\n",
       "<table border=\"1\" class=\"dataframe\">\n",
       "  <thead>\n",
       "    <tr style=\"text-align: right;\">\n",
       "      <th></th>\n",
       "      <th>category_name</th>\n",
       "      <th>count_words</th>\n",
       "      <th>count_sentences</th>\n",
       "      <th>count_paragraphs</th>\n",
       "      <th>common_words</th>\n",
       "      <th>common_words_after_preprocessing</th>\n",
       "      <th>synonyms</th>\n",
       "      <th>antonyms</th>\n",
       "    </tr>\n",
       "  </thead>\n",
       "  <tbody>\n",
       "    <tr>\n",
       "      <th>0</th>\n",
       "      <td>adventure</td>\n",
       "      <td>69342</td>\n",
       "      <td>4637</td>\n",
       "      <td>1387</td>\n",
       "      <td>[., the, ,, and, a, of, to, he, ``, '']</td>\n",
       "      <td>[said, would, one, back, man, could, like, tim...</td>\n",
       "      <td>[state, say, tell, allege, aver, say, suppose,...</td>\n",
       "      <td>[front, front, advance, front, veer, front, fo...</td>\n",
       "    </tr>\n",
       "    <tr>\n",
       "      <th>1</th>\n",
       "      <td>belles_lettres</td>\n",
       "      <td>173096</td>\n",
       "      <td>7209</td>\n",
       "      <td>1405</td>\n",
       "      <td>[the, ,, ., of, and, to, a, in, that, is]</td>\n",
       "      <td>[one, would, new, time, man, even, may, could,...</td>\n",
       "      <td>[one, 1, I, ace, single, unity, one, one, 1, i...</td>\n",
       "      <td>[old, worn, woman, civilian, woman, odd, uneve...</td>\n",
       "    </tr>\n",
       "    <tr>\n",
       "      <th>2</th>\n",
       "      <td>editorial</td>\n",
       "      <td>61604</td>\n",
       "      <td>2997</td>\n",
       "      <td>1003</td>\n",
       "      <td>[the, ,, ., of, to, and, a, in, is, that]</td>\n",
       "      <td>[would, one, new, mr., united, may, people, am...</td>\n",
       "      <td>[one, 1, I, ace, single, unity, one, one, 1, i...</td>\n",
       "      <td>[old, worn, divide, disunify, divided]</td>\n",
       "    </tr>\n",
       "    <tr>\n",
       "      <th>3</th>\n",
       "      <td>fiction</td>\n",
       "      <td>68488</td>\n",
       "      <td>4249</td>\n",
       "      <td>1043</td>\n",
       "      <td>[the, ,, ., and, to, of, a, he, was, in]</td>\n",
       "      <td>[would, said, one, could, like, man, back, tim...</td>\n",
       "      <td>[state, say, tell, allege, aver, say, suppose,...</td>\n",
       "      <td>[dislike, unlike, unlike, unalike, woman, civi...</td>\n",
       "    </tr>\n",
       "    <tr>\n",
       "      <th>4</th>\n",
       "      <td>government</td>\n",
       "      <td>70117</td>\n",
       "      <td>3032</td>\n",
       "      <td>851</td>\n",
       "      <td>[the, ,, of, ., and, to, in, a, for, is]</td>\n",
       "      <td>[state, year, states, may, united, new, develo...</td>\n",
       "      <td>[state, province, state, state, state, nation,...</td>\n",
       "      <td>[divide, disunify, divided, old, worn, devolut...</td>\n",
       "    </tr>\n",
       "    <tr>\n",
       "      <th>5</th>\n",
       "      <td>hobbies</td>\n",
       "      <td>82345</td>\n",
       "      <td>4193</td>\n",
       "      <td>1119</td>\n",
       "      <td>[the, ,, ., of, and, a, to, in, is, for]</td>\n",
       "      <td>[one, new, may, time, first, many, two, also, ...</td>\n",
       "      <td>[one, 1, I, ace, single, unity, one, one, 1, i...</td>\n",
       "      <td>[old, worn, middle, last, second, few, evil, e...</td>\n",
       "    </tr>\n",
       "    <tr>\n",
       "      <th>6</th>\n",
       "      <td>humor</td>\n",
       "      <td>21695</td>\n",
       "      <td>1053</td>\n",
       "      <td>254</td>\n",
       "      <td>[,, the, ., and, a, of, to, in, ``, '']</td>\n",
       "      <td>[said, one, would, time, even, like, mr., coul...</td>\n",
       "      <td>[state, say, tell, allege, aver, say, suppose,...</td>\n",
       "      <td>[odd, uneven, dislike, unlike, unlike, unalike]</td>\n",
       "    </tr>\n",
       "    <tr>\n",
       "      <th>7</th>\n",
       "      <td>learned</td>\n",
       "      <td>181888</td>\n",
       "      <td>7734</td>\n",
       "      <td>1418</td>\n",
       "      <td>[the, ,, of, ., and, in, to, a, is, that]</td>\n",
       "      <td>[af, one, may, would, two, first, 1, also, tim...</td>\n",
       "      <td>[one, 1, I, ace, single, unity, one, one, 1, i...</td>\n",
       "      <td>[middle, last, second]</td>\n",
       "    </tr>\n",
       "    <tr>\n",
       "      <th>8</th>\n",
       "      <td>lore</td>\n",
       "      <td>110299</td>\n",
       "      <td>4881</td>\n",
       "      <td>1203</td>\n",
       "      <td>[the, ,, ., of, and, to, a, in, is, that]</td>\n",
       "      <td>[one, would, time, may, new, first, could, peo...</td>\n",
       "      <td>[one, 1, I, ace, single, unity, one, one, 1, i...</td>\n",
       "      <td>[old, worn, middle, last, second, few]</td>\n",
       "    </tr>\n",
       "    <tr>\n",
       "      <th>9</th>\n",
       "      <td>mystery</td>\n",
       "      <td>57169</td>\n",
       "      <td>3886</td>\n",
       "      <td>1164</td>\n",
       "      <td>[., the, ,, to, and, a, he, of, was, ``]</td>\n",
       "      <td>[said, would, one, back, could, like, man, get...</td>\n",
       "      <td>[state, say, tell, allege, aver, say, suppose,...</td>\n",
       "      <td>[front, front, advance, front, veer, front, fo...</td>\n",
       "    </tr>\n",
       "  </tbody>\n",
       "</table>\n",
       "</div>"
      ],
      "text/plain": [
       "    category_name count_words count_sentences count_paragraphs  \\\n",
       "0       adventure       69342            4637             1387   \n",
       "1  belles_lettres      173096            7209             1405   \n",
       "2       editorial       61604            2997             1003   \n",
       "3         fiction       68488            4249             1043   \n",
       "4      government       70117            3032              851   \n",
       "5         hobbies       82345            4193             1119   \n",
       "6           humor       21695            1053              254   \n",
       "7         learned      181888            7734             1418   \n",
       "8            lore      110299            4881             1203   \n",
       "9         mystery       57169            3886             1164   \n",
       "\n",
       "                                common_words  \\\n",
       "0    [., the, ,, and, a, of, to, he, ``, '']   \n",
       "1  [the, ,, ., of, and, to, a, in, that, is]   \n",
       "2  [the, ,, ., of, to, and, a, in, is, that]   \n",
       "3   [the, ,, ., and, to, of, a, he, was, in]   \n",
       "4   [the, ,, of, ., and, to, in, a, for, is]   \n",
       "5   [the, ,, ., of, and, a, to, in, is, for]   \n",
       "6    [,, the, ., and, a, of, to, in, ``, '']   \n",
       "7  [the, ,, of, ., and, in, to, a, is, that]   \n",
       "8  [the, ,, ., of, and, to, a, in, is, that]   \n",
       "9   [., the, ,, to, and, a, he, of, was, ``]   \n",
       "\n",
       "                    common_words_after_preprocessing  \\\n",
       "0  [said, would, one, back, man, could, like, tim...   \n",
       "1  [one, would, new, time, man, even, may, could,...   \n",
       "2  [would, one, new, mr., united, may, people, am...   \n",
       "3  [would, said, one, could, like, man, back, tim...   \n",
       "4  [state, year, states, may, united, new, develo...   \n",
       "5  [one, new, may, time, first, many, two, also, ...   \n",
       "6  [said, one, would, time, even, like, mr., coul...   \n",
       "7  [af, one, may, would, two, first, 1, also, tim...   \n",
       "8  [one, would, time, may, new, first, could, peo...   \n",
       "9  [said, would, one, back, could, like, man, get...   \n",
       "\n",
       "                                            synonyms  \\\n",
       "0  [state, say, tell, allege, aver, say, suppose,...   \n",
       "1  [one, 1, I, ace, single, unity, one, one, 1, i...   \n",
       "2  [one, 1, I, ace, single, unity, one, one, 1, i...   \n",
       "3  [state, say, tell, allege, aver, say, suppose,...   \n",
       "4  [state, province, state, state, state, nation,...   \n",
       "5  [one, 1, I, ace, single, unity, one, one, 1, i...   \n",
       "6  [state, say, tell, allege, aver, say, suppose,...   \n",
       "7  [one, 1, I, ace, single, unity, one, one, 1, i...   \n",
       "8  [one, 1, I, ace, single, unity, one, one, 1, i...   \n",
       "9  [state, say, tell, allege, aver, say, suppose,...   \n",
       "\n",
       "                                            antonyms  \n",
       "0  [front, front, advance, front, veer, front, fo...  \n",
       "1  [old, worn, woman, civilian, woman, odd, uneve...  \n",
       "2             [old, worn, divide, disunify, divided]  \n",
       "3  [dislike, unlike, unlike, unalike, woman, civi...  \n",
       "4  [divide, disunify, divided, old, worn, devolut...  \n",
       "5  [old, worn, middle, last, second, few, evil, e...  \n",
       "6    [odd, uneven, dislike, unlike, unlike, unalike]  \n",
       "7                             [middle, last, second]  \n",
       "8             [old, worn, middle, last, second, few]  \n",
       "9  [front, front, advance, front, veer, front, fo...  "
      ]
     },
     "execution_count": 82,
     "metadata": {},
     "output_type": "execute_result"
    }
   ],
   "source": [
    "brown_corpus.head(10)"
   ]
  },
  {
   "cell_type": "code",
   "execution_count": 88,
   "id": "7d356be9",
   "metadata": {},
   "outputs": [
    {
     "data": {
      "text/plain": [
       "<BarContainer object of 15 artists>"
      ]
     },
     "execution_count": 88,
     "metadata": {},
     "output_type": "execute_result"
    },
    {
     "data": {
      "image/png": "[encoded data removed]",
      "text/plain": [
       "<Figure size 864x864 with 1 Axes>"
      ]
     },
     "metadata": {
      "needs_background": "light"
     },
     "output_type": "display_data"
    }
   ],
   "source": [
    "#Number of words \n",
    "plt.figure(figsize=(12,12))\n",
    "plt.bar(x=brown_corpus['category_name'], height=brown_corpus['count_words'])\n",
    "plt.title(\"Number of words per category\")"
   ]
  },
  {
   "cell_type": "code",
   "execution_count": 89,
   "id": "fb07289e",
   "metadata": {},
   "outputs": [
    {
     "data": {
      "text/plain": [
       "Text(0.5, 1.0, 'Number of sentences per category')"
      ]
     },
     "execution_count": 89,
     "metadata": {},
     "output_type": "execute_result"
    },
    {
     "data": {
      "image/png": "[encoded data removed]",
      "text/plain": [
       "<Figure size 864x864 with 1 Axes>"
      ]
     },
     "metadata": {
      "needs_background": "light"
     },
     "output_type": "display_data"
    }
   ],
   "source": [
    "#Number of lines \n",
    "plt.figure(figsize=(12,12))\n",
    "plt.bar(x=brown_corpus['category_name'], height=brown_corpus['count_sentences'])\n",
    "\n",
    "plt.title(\"Number of sentences per category\")"
   ]
  },
  {
   "cell_type": "code",
   "execution_count": 90,
   "id": "a87260d0",
   "metadata": {},
   "outputs": [
    {
     "data": {
      "text/plain": [
       "Text(0.5, 1.0, 'Number of paragraphs per category')"
      ]
     },
     "execution_count": 90,
     "metadata": {},
     "output_type": "execute_result"
    },
    {
     "data": {
      "image/png": "[encoded data removed]",
      "text/plain": [
       "<Figure size 864x864 with 1 Axes>"
      ]
     },
     "metadata": {
      "needs_background": "light"
     },
     "output_type": "display_data"
    }
   ],
   "source": [
    "#Number of paragraphs\n",
    "plt.figure(figsize=(12,12))\n",
    "plt.bar(x=brown_corpus['category_name'], height=brown_corpus['count_paragraphs'])\n",
    "\n",
    "plt.title(\"Number of paragraphs per category\")"
   ]
  },
  {
   "cell_type": "markdown",
   "id": "0f702b0f",
   "metadata": {},
   "source": [
    "**Task 12:**"
   ]
  },
  {
   "cell_type": "code",
   "execution_count": 103,
   "id": "a87cb88d",
   "metadata": {},
   "outputs": [
    {
     "name": "stderr",
     "output_type": "stream",
     "text": [
      "No handles with labels found to put in legend.\n"
     ]
    },
    {
     "data": {
      "image/png": "[encoded data removed]",
      "text/plain": [
       "<Figure size 864x864 with 1 Axes>"
      ]
     },
     "metadata": {
      "needs_background": "light"
     },
     "output_type": "display_data"
    }
   ],
   "source": [
    "plt.figure(figsize=(12,12))\n",
    "x = brown_corpus['category_name']\n",
    "y = brown_corpus['count_words']\n",
    "y1 = brown_corpus['count_paragraphs']\n",
    "y2 = brown_corpus['count_sentences']\n",
    "\n",
    "X_axis = np.arange(len(x))*2\n",
    "ax = plt.subplot(111)\n",
    "ax.bar(X_axis- 0.5, y, width=0.5, color='b', align='center')\n",
    "ax.bar(X_axis, y2, width=0.5, color='g', align='center')\n",
    "ax.bar(X_axis -1, y1, width=0.5, color='r', align='center')\n",
    "\n",
    "plt.xticks(X_axis, x)\n",
    "plt.xlabel(\"Categories\")\n",
    "plt.ylabel(\"Counts\")\n",
    "plt.title(\"Bar Chart for categories vs count\")\n",
    "plt.legend()\n",
    "\n",
    "plt.show()\n",
    "\n"
   ]
  },
  {
   "cell_type": "markdown",
   "id": "cb6e6c74",
   "metadata": {},
   "source": [
    "Task 13:"
   ]
  },
  {
   "cell_type": "code",
   "execution_count": 102,
   "id": "e1f7b69c",
   "metadata": {},
   "outputs": [
    {
     "data": {
      "image/png": "[encoded data removed]",
      "text/plain": [
       "<Figure size 864x864 with 1 Axes>"
      ]
     },
     "metadata": {
      "needs_background": "light"
     },
     "output_type": "display_data"
    }
   ],
   "source": [
    "#Number of words  change color\n",
    "plt.figure(figsize=(12,12))\n",
    "plt.bar(x=brown_corpus['category_name'], height=brown_corpus['count_words'] , color = 'g')\n",
    "plt.title(\"Number of words per category\")\n",
    "\n",
    "\n",
    "# Adjust x-axes labels for all barplots by rotating them by 90 degrees clockwise.\n",
    "\n",
    "plt.xticks(rotation=90)\n",
    "\n",
    "\n",
    "plt.show()"
   ]
  },
  {
   "cell_type": "code",
   "execution_count": 122,
   "id": "15c742e8",
   "metadata": {},
   "outputs": [
    {
     "data": {
      "text/plain": [
       "<BarContainer object of 15 artists>"
      ]
     },
     "execution_count": 122,
     "metadata": {},
     "output_type": "execute_result"
    },
    {
     "data": {
      "image/png": "[encoded data removed]",
      "text/plain": [
       "<Figure size 864x864 with 1 Axes>"
      ]
     },
     "metadata": {
      "needs_background": "light"
     },
     "output_type": "display_data"
    },
    {
     "data": {
      "image/png": "[encoded data removed]",
      "text/plain": [
       "<Figure size 864x864 with 1 Axes>"
      ]
     },
     "metadata": {
      "needs_background": "light"
     },
     "output_type": "display_data"
    },
    {
     "data": {
      "image/png": "[encoded data removed]",
      "text/plain": [
       "<Figure size 864x864 with 1 Axes>"
      ]
     },
     "metadata": {
      "needs_background": "light"
     },
     "output_type": "display_data"
    }
   ],
   "source": [
    "#• Order the bars for each plot in ascending order, e.g. the smallest bar is the first one from the left.\n",
    "\n",
    "brown_corpus_words = brown_corpus[[\"category_name\", \"count_words\" ]]\n",
    "\n",
    "brown_corpus_words = brown_corpus_words.sort_values(by=['count_words'])\n",
    "\n",
    "plt.figure(figsize=(12,12))\n",
    "plt.bar(x=brown_corpus_words['category_name'], height=brown_corpus_words['count_words'] , color = 'g')\n",
    "plt.title(\"Number of words per category\")\n",
    "plt.xticks(rotation=90)\n",
    "\n",
    "\n",
    "\n",
    "brown_corpus_sen = brown_corpus[[\"category_name\", \"count_sentences\" ]]\n",
    "\n",
    "brown_corpus_sen = brown_corpus_sen.sort_values(by=['count_sentences'])\n",
    "\n",
    "plt.figure(figsize=(12,12))\n",
    "plt.bar(x=brown_corpus_sen['category_name'], height=brown_corpus_sen['count_sentences'] )\n",
    "plt.title(\"Number of sen per category\")\n",
    "plt.xticks(rotation=90)\n",
    "\n",
    "#Replace the 3rd barplot by a horizontal barplot with the categories displayed on the y-axis. Sort the bars in ascending order from top to bottom. \n",
    "\n",
    "plt.figure(figsize=(12,12))\n",
    "plt.barh(y=brown_corpus_para['category_name'], width=brown_corpus_para['count_paragraphs'] )"
   ]
  },
  {
   "cell_type": "markdown",
   "id": "ab25616e",
   "metadata": {},
   "source": []
  }
 ],
 "metadata": {
  "kernelspec": {
   "display_name": "Python 3",
   "language": "python",
   "name": "python3"
  },
  "language_info": {
   "codemirror_mode": {
    "name": "ipython",
    "version": 3
   },
   "file_extension": ".py",
   "mimetype": "text/x-python",
   "name": "python",
   "nbconvert_exporter": "python",
   "pygments_lexer": "ipython3",
   "version": "3.8.8"
  }
 },
 "nbformat": 4,
 "nbformat_minor": 5
}
